{
 "cells": [
  {
   "cell_type": "code",
   "execution_count": 1,
   "metadata": {},
   "outputs": [],
   "source": [
    "import scipy.misc\n",
    "import scipy.signal\n",
    "import matplotlib.pyplot as plt\n",
    "import numpy as np\n",
    "from PIL import Image\n",
    "from PIL import ImageFilter\n",
    "from PIL import ImageChops\n",
    "from PIL import ImageStat\n",
    "from scipy.ndimage.filters import gaussian_filter\n",
    "\n",
    "\n",
    "%matplotlib inline"
   ]
  },
  {
   "cell_type": "code",
   "execution_count": 37,
   "metadata": {},
   "outputs": [],
   "source": [
    "II = np.zeros((550,4000))\n",
    "for i in range(0,550):\n",
    "    im = Image.open(\"./TrainImages/pos-\"+str(i)+\".pgm\")\n",
    "    II[i] = (np.array(im.getdata())).reshape(1,4000)"
   ]
  },
  {
   "cell_type": "code",
   "execution_count": 45,
   "metadata": {},
   "outputs": [
    {
     "data": {
      "text/plain": [
       "array([ 0.00291255,  0.00934262,  0.0049105 , ...,  0.02067563,\n",
       "        0.01063642, -0.01341916])"
      ]
     },
     "execution_count": 45,
     "metadata": {},
     "output_type": "execute_result"
    }
   ],
   "source": [
    "W = np.random.uniform(low=-0.1, high=0.1, size=(16,4000))\n",
    "W /= np.linalg.norm(W, axis=1).reshape((16,1))\n",
    "W[0]"
   ]
  },
  {
   "cell_type": "code",
   "execution_count": 50,
   "metadata": {},
   "outputs": [],
   "source": [
    "Y = np.dot(W,II[0]).reshape((16,1))"
   ]
  },
  {
   "cell_type": "code",
   "execution_count": 51,
   "metadata": {},
   "outputs": [
    {
     "data": {
      "text/plain": [
       "(16, 1)"
      ]
     },
     "execution_count": 51,
     "metadata": {},
     "output_type": "execute_result"
    }
   ],
   "source": [
    "Y.shape"
   ]
  },
  {
   "cell_type": "code",
   "execution_count": 52,
   "metadata": {},
   "outputs": [],
   "source": [
    "beta = 10000\n",
    "dW = np.ones((4000,16))\n",
    "X = II[0].reshape((4000,1))\n",
    "W /= np.linalg.norm(W, axis=1).reshape((16,1))\n",
    "for i in range(0,550):\n",
    "    Y = Y.reshape((16,1))\n",
    "    X = II[i].reshape((4000,1))\n",
    "    dW = beta*(np.dot(Y,np.transpose(X))- np.dot(np.tril(Y*np.transpose(Y)),W))\n",
    "    dW /= np.linalg.norm(dW, axis=1).reshape((16,1))\n",
    "    W /= np.linalg.norm(W, axis=1).reshape((16,1))\n",
    "    W = W + dW\n",
    "    \n",
    "    Y = np.dot(W,X)"
   ]
  },
  {
   "cell_type": "code",
   "execution_count": 58,
   "metadata": {},
   "outputs": [],
   "source": [
    "W /= np.linalg.norm(W, axis=1).reshape((16,1))"
   ]
  },
  {
   "cell_type": "code",
   "execution_count": 62,
   "metadata": {},
   "outputs": [],
   "source": [
    "Y_W = np.empty((16,40,100))\n",
    "yw = 0\n",
    "for w in W:\n",
    "    Y_W[yw] = w.reshape((40,100))\n",
    "    yw += 1"
   ]
  },
  {
   "cell_type": "code",
   "execution_count": 65,
   "metadata": {},
   "outputs": [],
   "source": [
    "for i in range(0,16):\n",
    "    z = str(i).zfill(3)\n",
    "    mmm = np.abs(Y_W[i].min()) \n",
    "    iW = (255.0 / (Y_W[i]+mmm).max() * ((Y_W[i]+mmm) - (Y_W[i]+mmm).min())).astype(np.uint8)\n",
    "    Image.fromarray(iW,mode='L').save('./Car_weigths/CW'+z+'.jpg')"
   ]
  },
  {
   "cell_type": "code",
   "execution_count": null,
   "metadata": {},
   "outputs": [],
   "source": []
  }
 ],
 "metadata": {
  "kernelspec": {
   "display_name": "Python [conda env:root]",
   "language": "python",
   "name": "conda-root-py"
  },
  "language_info": {
   "codemirror_mode": {
    "name": "ipython",
    "version": 3
   },
   "file_extension": ".py",
   "mimetype": "text/x-python",
   "name": "python",
   "nbconvert_exporter": "python",
   "pygments_lexer": "ipython3",
   "version": "3.7.0"
  }
 },
 "nbformat": 4,
 "nbformat_minor": 2
}
