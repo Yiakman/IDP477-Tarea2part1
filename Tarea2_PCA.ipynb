{
 "cells": [
  {
   "cell_type": "code",
   "execution_count": 1,
   "metadata": {},
   "outputs": [],
   "source": [
    "import scipy.misc\n",
    "import scipy.signal\n",
    "import matplotlib.pyplot as plt\n",
    "import numpy as np\n",
    "from PIL import Image\n",
    "from PIL import ImageFilter\n",
    "from PIL import ImageChops\n",
    "from PIL import ImageStat\n",
    "from scipy.ndimage.filters import gaussian_filter\n",
    "from sklearn.preprocessing import StandardScaler\n",
    "\n",
    "%matplotlib inline"
   ]
  },
  {
   "cell_type": "code",
   "execution_count": 2,
   "metadata": {},
   "outputs": [],
   "source": [
    "II = np.zeros((550,4000))\n",
    "for i in range(0,550):\n",
    "    im = Image.open(\"./TrainImages/pos-\"+str(i)+\".pgm\")\n",
    "    II[i] = (np.array(im.getdata())).reshape(1,4000)\n",
    "    \n"
   ]
  },
  {
   "cell_type": "code",
   "execution_count": 108,
   "metadata": {},
   "outputs": [
    {
     "data": {
      "text/plain": [
       "(550, 550)"
      ]
     },
     "execution_count": 108,
     "metadata": {},
     "output_type": "execute_result"
    }
   ],
   "source": [
    "M = np.dot(II,II.T)\n",
    "M.shape"
   ]
  },
  {
   "cell_type": "code",
   "execution_count": 109,
   "metadata": {},
   "outputs": [
    {
     "data": {
      "text/plain": [
       "(550, 4000)"
      ]
     },
     "execution_count": 109,
     "metadata": {},
     "output_type": "execute_result"
    }
   ],
   "source": [
    "eV,EV = np.linalg.eigh(M)\n",
    "rEV = np.dot(II.T,EV).T\n",
    "rEV.shape"
   ]
  },
  {
   "cell_type": "code",
   "execution_count": 110,
   "metadata": {},
   "outputs": [],
   "source": [
    "eV16 = np.flip(eV)[0:16]\n",
    "rEV16 = np.flip(rEV)[0:16]"
   ]
  },
  {
   "cell_type": "code",
   "execution_count": 111,
   "metadata": {},
   "outputs": [
    {
     "data": {
      "text/plain": [
       "(16, 4000)"
      ]
     },
     "execution_count": 111,
     "metadata": {},
     "output_type": "execute_result"
    }
   ],
   "source": [
    "rEV16.shape"
   ]
  },
  {
   "cell_type": "code",
   "execution_count": 112,
   "metadata": {},
   "outputs": [],
   "source": [
    "z = 0\n",
    "for pc in rEV16:\n",
    "    zz = str(z).zfill(2)\n",
    "    pcI = pc.reshape((40,100))\n",
    "    Image.fromarray(pcI,mode='L').save('./PCA16/PC'+zz+'.jpg')\n",
    "    z += 1"
   ]
  },
  {
   "cell_type": "code",
   "execution_count": 113,
   "metadata": {},
   "outputs": [],
   "source": [
    "Image.fromarray(rEV16[0].reshape((40,100)),mode='L').show()"
   ]
  },
  {
   "cell_type": "code",
   "execution_count": 47,
   "metadata": {},
   "outputs": [],
   "source": [
    "im = Image.open(\"./TrainImages/pos-0.pgm\")\n",
    "im.show()\n",
    "Image.fromarray(np.array(im.getdata()).reshape((1,4000)).reshape((40,100))).show()"
   ]
  },
  {
   "cell_type": "code",
   "execution_count": 114,
   "metadata": {},
   "outputs": [],
   "source": [
    "Image.fromarray(II[1].reshape((40,100))).show()"
   ]
  },
  {
   "cell_type": "code",
   "execution_count": 64,
   "metadata": {},
   "outputs": [],
   "source": [
    "\n",
    "U,S,V = np.linalg.svd((II.T - np.repeat(np.mean(II, axis=0),550,axis=0).reshape(550,4000).T))"
   ]
  },
  {
   "cell_type": "code",
   "execution_count": 65,
   "metadata": {},
   "outputs": [
    {
     "data": {
      "text/plain": [
       "(16, 4000)"
      ]
     },
     "execution_count": 65,
     "metadata": {},
     "output_type": "execute_result"
    }
   ],
   "source": [
    "EV16 = U[:16]\n",
    "#x = StandardScaler().fit_transform(EV16)\n",
    "EV16.shape"
   ]
  },
  {
   "cell_type": "code",
   "execution_count": 61,
   "metadata": {},
   "outputs": [],
   "source": [
    "z = 0\n",
    "for pc in EV16:\n",
    "    zz = str(z).zfill(2)\n",
    "    pcI = pc.reshape((40,100))\n",
    "    Image.fromarray(pcI,mode='L').save('./PCA16/PC'+zz+'.jpg')\n",
    "    z += 1"
   ]
  },
  {
   "cell_type": "code",
   "execution_count": 66,
   "metadata": {},
   "outputs": [],
   "source": [
    "Image.fromarray(EV16[0].reshape((40,100)),mode='L').show()"
   ]
  },
  {
   "cell_type": "code",
   "execution_count": 27,
   "metadata": {},
   "outputs": [
    {
     "data": {
      "text/plain": [
       "array([[134.2505 , 134.2505 , 134.2505 , ..., 134.2505 , 134.2505 ,\n",
       "        134.2505 ],\n",
       "       [132.7515 , 132.7515 , 132.7515 , ..., 132.7515 , 132.7515 ,\n",
       "        132.7515 ],\n",
       "       [132.62575, 132.62575, 132.62575, ..., 132.62575, 132.62575,\n",
       "        132.62575],\n",
       "       ...,\n",
       "       [125.56175, 125.56175, 125.56175, ..., 125.56175, 125.56175,\n",
       "        125.56175],\n",
       "       [127.32   , 127.32   , 127.32   , ..., 127.32   , 127.32   ,\n",
       "        127.32   ],\n",
       "       [126.93425, 126.93425, 126.93425, ..., 126.93425, 126.93425,\n",
       "        126.93425]])"
      ]
     },
     "execution_count": 27,
     "metadata": {},
     "output_type": "execute_result"
    }
   ],
   "source": [
    "np.repeat(np.mean(II, axis=1),4000,axis=0).reshape(550,4000)"
   ]
  },
  {
   "cell_type": "code",
   "execution_count": 28,
   "metadata": {},
   "outputs": [
    {
     "data": {
      "text/plain": [
       "134.2505"
      ]
     },
     "execution_count": 28,
     "metadata": {},
     "output_type": "execute_result"
    }
   ],
   "source": [
    "np.mean(II[0])"
   ]
  },
  {
   "cell_type": "code",
   "execution_count": 34,
   "metadata": {},
   "outputs": [
    {
     "data": {
      "text/plain": [
       "(550, 4000)"
      ]
     },
     "execution_count": 34,
     "metadata": {},
     "output_type": "execute_result"
    }
   ],
   "source": [
    "II.shape"
   ]
  },
  {
   "cell_type": "code",
   "execution_count": 46,
   "metadata": {},
   "outputs": [],
   "source": [
    " ev, EV = np.linalg.eig(np.cov(II.T))"
   ]
  },
  {
   "cell_type": "code",
   "execution_count": 47,
   "metadata": {},
   "outputs": [
    {
     "name": "stderr",
     "output_type": "stream",
     "text": [
      "C:\\Users\\Edu\\Anaconda3\\lib\\site-packages\\ipykernel_launcher.py:2: ComplexWarning: Casting complex values to real discards the imaginary part\n",
      "  \n"
     ]
    }
   ],
   "source": [
    "mmm = np.abs(EV[0].min())\n",
    "iEV = (255.0 / (EV[0]+mmm).max() * ((EV[0]+mmm) - (EV[0]+mmm).min())).astype(np.uint8)"
   ]
  },
  {
   "cell_type": "code",
   "execution_count": 49,
   "metadata": {},
   "outputs": [
    {
     "data": {
      "text/plain": [
       "array([ 1.19452302e-02+0.j, -8.43147372e-03+0.j, -1.55103052e-02+0.j, ...,\n",
       "        1.94369866e-03+0.j, -6.95539649e-04+0.j, -7.96239565e-05+0.j])"
      ]
     },
     "execution_count": 49,
     "metadata": {},
     "output_type": "execute_result"
    }
   ],
   "source": [
    "EV[0]"
   ]
  },
  {
   "cell_type": "code",
   "execution_count": 77,
   "metadata": {},
   "outputs": [
    {
     "data": {
      "text/plain": [
       "array([2., 6.])"
      ]
     },
     "execution_count": 77,
     "metadata": {},
     "output_type": "execute_result"
    }
   ],
   "source": [
    "a = np.mean(np.array(((1,5),(3,7))),axis=0).T\n",
    "a"
   ]
  },
  {
   "cell_type": "code",
   "execution_count": 73,
   "metadata": {},
   "outputs": [
    {
     "data": {
      "text/plain": [
       "array([153., 153., 153., ..., 206., 224., 224.])"
      ]
     },
     "execution_count": 73,
     "metadata": {},
     "output_type": "execute_result"
    }
   ],
   "source": [
    "II[0]"
   ]
  },
  {
   "cell_type": "code",
   "execution_count": 89,
   "metadata": {},
   "outputs": [
    {
     "data": {
      "text/plain": [
       "(4000,)"
      ]
     },
     "execution_count": 89,
     "metadata": {},
     "output_type": "execute_result"
    }
   ],
   "source": [
    "a = np.mean(II,axis=0).T\n",
    "a.shape"
   ]
  },
  {
   "cell_type": "code",
   "execution_count": 91,
   "metadata": {},
   "outputs": [
    {
     "data": {
      "text/plain": [
       "(4000, 550)"
      ]
     },
     "execution_count": 91,
     "metadata": {},
     "output_type": "execute_result"
    }
   ],
   "source": [
    "np.array([a]*550).T.shape"
   ]
  },
  {
   "cell_type": "code",
   "execution_count": 92,
   "metadata": {},
   "outputs": [
    {
     "data": {
      "text/plain": [
       "(4000, 550)"
      ]
     },
     "execution_count": 92,
     "metadata": {},
     "output_type": "execute_result"
    }
   ],
   "source": [
    "II.T.shape"
   ]
  },
  {
   "cell_type": "code",
   "execution_count": 94,
   "metadata": {},
   "outputs": [
    {
     "data": {
      "text/plain": [
       "(4000,)"
      ]
     },
     "execution_count": 94,
     "metadata": {},
     "output_type": "execute_result"
    }
   ],
   "source": [
    "a = np.mean(II,axis=0).T\n",
    "M = np.array([a]*550).T\n",
    "U,S,V = np.linalg.svd(II.T - M)\n",
    "U[0].shape"
   ]
  },
  {
   "cell_type": "code",
   "execution_count": 104,
   "metadata": {},
   "outputs": [],
   "source": [
    "Image.fromarray(U[:,0].reshape((40,100)),mode='L').show()"
   ]
  },
  {
   "cell_type": "code",
   "execution_count": 100,
   "metadata": {},
   "outputs": [
    {
     "data": {
      "text/plain": [
       "array([-0.01194523, -0.00843147,  0.01551031, ..., -0.0041644 ,\n",
       "       -0.00571787, -0.00095645])"
      ]
     },
     "execution_count": 100,
     "metadata": {},
     "output_type": "execute_result"
    }
   ],
   "source": [
    "U.T[0]"
   ]
  },
  {
   "cell_type": "code",
   "execution_count": 103,
   "metadata": {},
   "outputs": [
    {
     "data": {
      "text/plain": [
       "(4000, 4000)"
      ]
     },
     "execution_count": 103,
     "metadata": {},
     "output_type": "execute_result"
    }
   ],
   "source": [
    "U.shape"
   ]
  },
  {
   "cell_type": "code",
   "execution_count": 106,
   "metadata": {},
   "outputs": [],
   "source": [
    "ev, EV = np.linalg.eig(np.cov(II.T))"
   ]
  },
  {
   "cell_type": "code",
   "execution_count": 110,
   "metadata": {},
   "outputs": [
    {
     "data": {
      "text/plain": [
       "array([[ 1.19452302e-02, -8.43147372e-03, -1.55103052e-02, ...,\n",
       "         1.94369866e-03, -6.95539649e-04, -7.96239565e-05],\n",
       "       [ 1.30032177e-02, -9.26106470e-03, -1.51366634e-02, ...,\n",
       "         1.32745767e-04, -1.87349906e-04,  7.84451442e-05],\n",
       "       [ 1.26675809e-02, -9.69225958e-03, -1.53666011e-02, ...,\n",
       "         1.48428995e-04, -7.90538153e-05, -4.34585925e-05],\n",
       "       ...,\n",
       "       [ 3.92760679e-03,  1.31428174e-02,  7.44774564e-03, ...,\n",
       "         1.50816699e-02,  7.93051871e-04,  3.66887307e-03],\n",
       "       [ 3.97818357e-03,  1.27752352e-02,  7.13901916e-03, ...,\n",
       "         1.47188794e-02, -4.66675220e-03,  8.07319030e-03],\n",
       "       [ 4.75515650e-03,  1.27666145e-02,  7.86843101e-03, ...,\n",
       "        -5.96919061e-03, -3.96647453e-02,  2.28800316e-02]])"
      ]
     },
     "execution_count": 110,
     "metadata": {},
     "output_type": "execute_result"
    }
   ],
   "source": [
    "EV = np.real(EV)\n",
    "EV"
   ]
  },
  {
   "cell_type": "code",
   "execution_count": 117,
   "metadata": {},
   "outputs": [
    {
     "data": {
      "text/plain": [
       "array([2782474.09524329, 1259548.30336073,  857704.45042168,\n",
       "        723435.44106076,  547671.30049036,  389782.1787916 ,\n",
       "        376439.64461516,  318864.38738065,  289394.724291  ,\n",
       "        277229.79983742,  232374.45701188,  220883.92276492,\n",
       "        212140.63894074,  199940.00411265,  185566.95455471,\n",
       "        175211.8946341 ])"
      ]
     },
     "execution_count": 117,
     "metadata": {},
     "output_type": "execute_result"
    }
   ],
   "source": [
    "ev = np.real(ev)\n",
    "ev[:16]"
   ]
  },
  {
   "cell_type": "code",
   "execution_count": 114,
   "metadata": {},
   "outputs": [
    {
     "data": {
      "text/plain": [
       "(4000,)"
      ]
     },
     "execution_count": 114,
     "metadata": {},
     "output_type": "execute_result"
    }
   ],
   "source": [
    "EV.T[0].shape"
   ]
  },
  {
   "cell_type": "code",
   "execution_count": 127,
   "metadata": {},
   "outputs": [],
   "source": [
    "Image.fromarray(EV.T[0].reshape((40,100)),mode='L').show()"
   ]
  },
  {
   "cell_type": "code",
   "execution_count": 125,
   "metadata": {},
   "outputs": [
    {
     "data": {
      "text/plain": [
       "array([33237.29348497, 36181.11626826, 35247.21577203, ...,\n",
       "       10928.46414707, 11069.19274301, 13231.09976617])"
      ]
     },
     "execution_count": 125,
     "metadata": {},
     "output_type": "execute_result"
    }
   ],
   "source": [
    "ev[0]*EV.T[0]"
   ]
  },
  {
   "cell_type": "code",
   "execution_count": 126,
   "metadata": {},
   "outputs": [
    {
     "data": {
      "text/plain": [
       "array([33237.29348497, 36181.11626826, 35247.21577203, ...,\n",
       "       10928.46414707, 11069.19274301, 13231.09976617])"
      ]
     },
     "execution_count": 126,
     "metadata": {},
     "output_type": "execute_result"
    }
   ],
   "source": [
    "np.dot(np.cov(II.T),EV.T[0])"
   ]
  },
  {
   "cell_type": "code",
   "execution_count": 128,
   "metadata": {},
   "outputs": [
    {
     "data": {
      "text/plain": [
       "True"
      ]
     },
     "execution_count": 128,
     "metadata": {},
     "output_type": "execute_result"
    }
   ],
   "source": [
    "ev.max() == ev[0]"
   ]
  },
  {
   "cell_type": "code",
   "execution_count": 129,
   "metadata": {},
   "outputs": [
    {
     "data": {
      "text/plain": [
       "(550, 550)"
      ]
     },
     "execution_count": 129,
     "metadata": {},
     "output_type": "execute_result"
    }
   ],
   "source": [
    "np.cov(II).shape"
   ]
  },
  {
   "cell_type": "code",
   "execution_count": null,
   "metadata": {},
   "outputs": [],
   "source": []
  }
 ],
 "metadata": {
  "kernelspec": {
   "display_name": "Python [conda env:root]",
   "language": "python",
   "name": "conda-root-py"
  },
  "language_info": {
   "codemirror_mode": {
    "name": "ipython",
    "version": 3
   },
   "file_extension": ".py",
   "mimetype": "text/x-python",
   "name": "python",
   "nbconvert_exporter": "python",
   "pygments_lexer": "ipython3",
   "version": "3.7.0"
  }
 },
 "nbformat": 4,
 "nbformat_minor": 2
}
